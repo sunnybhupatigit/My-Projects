{
 "cells": [
  {
   "cell_type": "code",
   "execution_count": null,
   "metadata": {
    "colab": {
     "base_uri": "https://localhost:8080/"
    },
    "id": "0tQoizoKITPa",
    "outputId": "b2797c18-4de4-4526-deaa-0a02d77a2ff0"
   },
   "outputs": [
    {
     "name": "stdout",
     "output_type": "stream",
     "text": [
      "Drive already mounted at /content/drive; to attempt to forcibly remount, call drive.mount(\"/content/drive\", force_remount=True).\n"
     ]
    }
   ],
   "source": [
    "from google.colab import drive\n",
    "drive.mount('/content/drive')"
   ]
  },
  {
   "cell_type": "code",
   "execution_count": null,
   "metadata": {
    "id": "98J7dW7ggp1A"
   },
   "outputs": [],
   "source": [
    "# # !rm /content/model_init_2021-08-0819_16_21.600083\n",
    "# %rm -rf \"/content/model_init_2021-08-0914_42_24.458958\""
   ]
  },
  {
   "cell_type": "code",
   "execution_count": null,
   "metadata": {
    "colab": {
     "base_uri": "https://localhost:8080/"
    },
    "id": "ZIWOc6inIaj9",
    "outputId": "77aaed3a-47c3-48c5-8f74-1ad3dc2f9130"
   },
   "outputs": [
    {
     "name": "stdout",
     "output_type": "stream",
     "text": [
      "Archive:  /content/drive/MyDrive/Project_data.zip\n",
      "replace /content/Project_data/train.csv? [y]es, [n]o, [A]ll, [N]one, [r]ename: n\n",
      "replace /content/Project_data/train/WIN_20180907_15_35_09_Pro_Right Swipe_new/WIN_20180907_15_35_09_Pro_00012.png? [y]es, [n]o, [A]ll, [N]one, [r]ename: "
     ]
    }
   ],
   "source": [
    "# Unzip the files\n",
    "!unzip \"/content/drive/MyDrive/Project_data.zip\" -d /content/\n"
   ]
  },
  {
   "cell_type": "code",
   "execution_count": 2,
   "metadata": {
    "id": "GSYlWMtqIame"
   },
   "outputs": [],
   "source": [
    "# Importing the needed Libraries\n",
    "import numpy as np\n",
    "import os\n",
    "import datetime\n",
    "import os\n",
    "import warnings\n",
    "warnings.filterwarnings('ignore')"
   ]
  },
  {
   "cell_type": "code",
   "execution_count": 3,
   "metadata": {
    "colab": {
     "base_uri": "https://localhost:8080/"
    },
    "id": "aLwa0tJyIapQ",
    "outputId": "7bd49a35-5042-4126-e3ff-e51fa04cdf92"
   },
   "outputs": [
    {
     "name": "stdout",
     "output_type": "stream",
     "text": [
      "Requirement already satisfied: scipy==1.2 in /usr/local/lib/python3.7/dist-packages (1.2.0)\n",
      "Requirement already satisfied: numpy>=1.8.2 in /usr/local/lib/python3.7/dist-packages (from scipy==1.2) (1.19.5)\n"
     ]
    }
   ],
   "source": [
    "!pip install scipy==1.2\n",
    "from scipy.misc import imread, imresize"
   ]
  },
  {
   "cell_type": "code",
   "execution_count": 4,
   "metadata": {
    "id": "MO0L2s8SIarh"
   },
   "outputs": [],
   "source": [
    "#\n",
    "np.random.seed(30)\n",
    "import random as rn\n",
    "rn.seed(30)\n",
    "from keras import backend as K\n",
    "import tensorflow as tf\n",
    "tf.random.set_seed(30)\n",
    "\n",
    "import cv2\n",
    "import matplotlib.pyplot as plt\n",
    "# % matplotlib inline"
   ]
  },
  {
   "cell_type": "code",
   "execution_count": 10,
   "metadata": {
    "id": "TTB0CBPXIsGt"
   },
   "outputs": [],
   "source": [
    "from keras.models import Sequential, Model\n",
    "from keras.layers import Dense, GRU, Flatten, TimeDistributed, Flatten, BatchNormalization, Activation, Dropout\n",
    "from keras.layers.convolutional import Conv3D, MaxPooling3D, Conv2D, MaxPooling2D\n",
    "from keras.layers.recurrent import LSTM\n",
    "from keras.callbacks import ModelCheckpoint, ReduceLROnPlateau, EarlyStopping\n",
    "from keras import optimizers\n",
    "from keras.losses import categorical_crossentropy\n",
    "from keras.optimizers import Adam"
   ]
  },
  {
   "cell_type": "markdown",
   "metadata": {
    "id": "XJwmWtVDecTe"
   },
   "source": [
    "read the folder names for training and validation and set the batch size accordingly based on the system resources\n"
   ]
  },
  {
   "cell_type": "code",
   "execution_count": 5,
   "metadata": {
    "id": "GZrjr6odIufP"
   },
   "outputs": [],
   "source": [
    "# Setting train and val paths\n",
    "train_doc = np.random.permutation(open('/content/Project_data/train.csv').readlines())\n",
    "val_doc = np.random.permutation(open('/content/Project_data/val.csv').readlines())\n",
    "train_path = '/content/Project_data/train'\n",
    "val_path = '/content/Project_data/val'"
   ]
  },
  {
   "cell_type": "markdown",
   "metadata": {
    "id": "safFWr_EQCLE"
   },
   "source": [
    "## Generator\n",
    "This is one of the most important part of the code. The overall structure of the generator has been given. In the generator, you are going to preprocess the images as you have images of 2 different dimensions as well as create a batch of video frames. You have to experiment with `img_idx`, `input_height`,`input_width` and normalization such that you get high accuracy."
   ]
  },
  {
   "cell_type": "markdown",
   "metadata": {
    "id": "1vFAuDJfQFQP"
   },
   "source": [
    "Note here that a video is represented above in the generator as (number of images, height, width, number of channels). Take this into consideration while creating the model architecture."
   ]
  },
  {
   "cell_type": "code",
   "execution_count": 6,
   "metadata": {
    "id": "-kwoE3rsQIvq"
   },
   "outputs": [],
   "source": [
    "def generator(source_path, folder_list, batch_size):\n",
    "    print( 'Source path = ', source_path, '; batch size =', batch_size)\n",
    "    img_idx = [input_frames for input_frames in range(0, input_frames)] #create a list of image numbers you want to use for a particular video\n",
    "    while True:\n",
    "        t = np.random.permutation(folder_list)\n",
    "        num_batches = len(folder_list)//batch_size # calculate the number of batches\n",
    "        for batch in range(num_batches): # we iterate over the number of batches\n",
    "            batch_data = np.zeros((batch_size, input_frames, input_height, input_width, channels)) # x is the number of images you use for each video, (y,z) is the final size of the input images and 3 is the number of channels RGB\n",
    "            batch_labels = np.zeros((batch_size,5)) # batch_labels is the one hot representation of the output\n",
    "            for folder in range(batch_size): # iterate over the batch_size\n",
    "                imgs = os.listdir(source_path+'/'+ t[folder + (batch*batch_size)].split(';')[0]) # read all the images in the folder\n",
    "                for idx,item in enumerate(img_idx): #  Iterate iver the frames/images of a folder to read them in\n",
    "                    image = imread(source_path+'/'+ t[folder + (batch*batch_size)].strip().split(';')[0]+'/'+imgs[item]).astype(np.float32)\n",
    "                    \n",
    "                    #crop the images and resize them. Note that the images are of 2 different shape \n",
    "                    #and the conv3D will throw error if the inputs in a batch have different shapes\n",
    "                    image = imresize(image,(input_height, input_width, channels))\n",
    "\n",
    "                    batch_data[folder,idx,:,:,0] = (image[:,:,0])/255 #normalise and feed in the image\n",
    "                    batch_data[folder,idx,:,:,1] = (image[:,:,1])/255 #normalise and feed in the image\n",
    "                    batch_data[folder,idx,:,:,2] = (image[:,:,2])/255 #normalise and feed in the image\n",
    "                    \n",
    "                batch_labels[folder, int(t[folder + (batch*batch_size)].strip().split(';')[2])] = 1\n",
    "            yield batch_data, batch_labels #you yield the batch_data and the batch_labels, remember what does yield do\n",
    "\n",
    "        \n",
    "        # write the code for the remaining data points which are left after full batches\n",
    "        if (len(folder_list) != batch_size*num_batches):\n",
    "            print(\"Batch: \",num_batches+1,\"Index:\", batch_size)\n",
    "            batch_size = len(folder_list) - (batch_size*num_batches)\n",
    "            batch_data = np.zeros((batch_size, input_frames, input_height, input_width, channels)) # x is the number of images you use for each video, (y,z) is the final size of the input images and 3 is the number of channels RGB\n",
    "            batch_labels = np.zeros((batch_size,5)) # batch_labels is the one hot representation of the output\n",
    "            for folder in range(batch_size): # iterate over the batch_size\n",
    "                imgs = os.listdir(source_path+'/'+ t[folder + (batch*batch_size)].split(';')[0]) # read all the images in the folder\n",
    "                for idx,item in enumerate(img_idx): #  Iterate iver the frames/images of a folder to read them in\n",
    "                    image = imread(source_path+'/'+ t[folder + (batch*batch_size)].strip().split(';')[0]+'/'+imgs[item]).astype(np.float32)\n",
    "                    \n",
    "                    #crop the images and resize them. Note that the images are of 2 different shape \n",
    "                    #and the conv3D will throw error if the inputs in a batch have different shapes\n",
    "                    image = imresize(image,(input_height, input_width, channels))\n",
    "\n",
    "                    batch_data[folder,idx,:,:,0] = (image[:,:,0])/255\n",
    "                    batch_data[folder,idx,:,:,1] = (image[:,:,1])/255\n",
    "                    batch_data[folder,idx,:,:,2] = (image[:,:,2])/255\n",
    "                   \n",
    "                batch_labels[folder, int(t[folder + (batch*batch_size)].strip().split(';')[2])] = 1\n",
    "            yield batch_data, batch_labels\n"
   ]
  },
  {
   "cell_type": "markdown",
   "metadata": {
    "id": "VqHjXhrFQLjx"
   },
   "source": [
    "After writing the model, the next step is to `compile` the model. When you print the `summary` of the model, you'll see the total number of parameters you have to train."
   ]
  },
  {
   "cell_type": "markdown",
   "metadata": {
    "id": "OwFcz2c2QOP0"
   },
   "source": [
    "Let us create the `train_generator` and the `val_generator` which will be used in `.fit_generator`."
   ]
  },
  {
   "cell_type": "code",
   "execution_count": 7,
   "metadata": {
    "id": "WYbwAWkgQQiS"
   },
   "outputs": [],
   "source": [
    "def train(batch_size, num_epochs, model, train_generator, val_generator, optimiser=None):\n",
    "    curr_dt_time = datetime.datetime.now()\n",
    "\n",
    "    num_train_sequences = len(train_doc)\n",
    "    print('# training sequences =', num_train_sequences)\n",
    "    num_val_sequences = len(val_doc)\n",
    "    print('# validation sequences =', num_val_sequences)\n",
    "    print('# batch size =', batch_size)    \n",
    "    print('# epochs =', num_epochs)\n",
    "\n",
    "    #write your optimizer\n",
    "    if optimiser == None:\n",
    "        optimiser = Adam() # default learning rate = 0.001\n",
    "    model.compile(optimizer=optimiser, loss='categorical_crossentropy', metrics=['categorical_accuracy'])\n",
    "    print (model.summary())\n",
    "    \n",
    "    model_name = 'model_init' + '_' + str(curr_dt_time).replace(' ','').replace(':','_') + '/'\n",
    "    \n",
    "    if not os.path.exists(model_name):\n",
    "        os.mkdir(model_name)\n",
    "            \n",
    "    filepath = model_name + 'model-{epoch:05d}-{loss:.5f}-{categorical_accuracy:.5f}-{val_loss:.5f}-{val_categorical_accuracy:.5f}.h5'\n",
    "\n",
    "    checkpoint = ModelCheckpoint(filepath, monitor='val_loss', verbose=1, save_best_only=False, save_weights_only=False, mode='auto', period=1)\n",
    "    LR = ReduceLROnPlateau(monitor='val_loss', factor=0.2, patience=4, cooldown=1, verbose=1)\n",
    "    \n",
    "    earlystop = EarlyStopping( monitor=\"val_loss\", min_delta=0,patience=20,verbose=1)\n",
    "    callbacks_list = [checkpoint, LR, earlystop]\n",
    "\n",
    "    if (num_train_sequences%batch_size) == 0:\n",
    "        steps_per_epoch = int(num_train_sequences/batch_size)\n",
    "    else:\n",
    "        steps_per_epoch = (num_train_sequences//batch_size) + 1\n",
    "\n",
    "    if (num_val_sequences%batch_size) == 0:\n",
    "        validation_steps = int(num_val_sequences/batch_size)\n",
    "    else:\n",
    "        validation_steps = (num_val_sequences//batch_size) + 1\n",
    "    \n",
    "    history=model.fit_generator(train_generator, steps_per_epoch=steps_per_epoch, epochs=num_epochs, verbose=1, \n",
    "                                callbacks=callbacks_list, validation_data=val_generator, \n",
    "                                validation_steps=validation_steps, class_weight=None, workers=1, initial_epoch=0)\n",
    "    return history"
   ]
  },
  {
   "cell_type": "markdown",
   "metadata": {
    "id": "yGRhDXJMQSwN"
   },
   "source": [
    "Plotting:\n",
    "Helper function to plot the training/validation accuracies/losses."
   ]
  },
  {
   "cell_type": "code",
   "execution_count": 11,
   "metadata": {
    "id": "RZSzM24KQTaS"
   },
   "outputs": [],
   "source": [
    "def plot(history):\n",
    "    fig, axes = plt.subplots(nrows=1, ncols=2, figsize=(15,6))\n",
    "    \n",
    "    # summarize history for loss\n",
    "    axes[0].plot(history.history['loss'])   \n",
    "    axes[0].plot(history.history['val_loss'])\n",
    "    axes[0].legend(['loss','val_loss'])\n",
    "\n",
    "    # summarize history for accuracy\n",
    "    axes[1].plot(history.history['categorical_accuracy'])   \n",
    "    axes[1].plot(history.history['val_categorical_accuracy'])\n",
    "    axes[1].legend(['categorical_accuracy','val_categorical_accuracy'])"
   ]
  },
  {
   "cell_type": "markdown",
   "metadata": {
    "id": "WdEgyJwOQWn2"
   },
   "source": [
    "## Model\n",
    "Here you make the model using different functionalities that Keras provides. Remember to use `Conv3D` and `MaxPooling3D` and not `Conv2D` and `Maxpooling2D` for a 3D convolution model. You would want to use `TimeDistributed` while building a Conv2D + RNN model. Also remember that the last layer is the softmax. Design the network in such a way that the model is able to give good accuracy on the least number of parameters so that it can fit in the memory of the webcam."
   ]
  },
  {
   "cell_type": "markdown",
   "metadata": {
    "id": "CJnEejrcQaDb"
   },
   "source": [
    "Model 1 : Experiment 1\n",
    "Initializing the model with Conv 3D neural network."
   ]
  },
  {
   "cell_type": "code",
   "execution_count": 12,
   "metadata": {
    "id": "21tquNL2Qazr"
   },
   "outputs": [],
   "source": [
    "input_frames = 18\n",
    "input_height = 84\n",
    "input_width = 84\n",
    "\n",
    "classes = 5 #left swipe, right swipe, thumbs up, thumbs down, stop\n",
    "channels = 3\n",
    "\n",
    "\n",
    "model_1 = Sequential()\n",
    "\n",
    "model_1.add(Conv3D(8, kernel_size=(3,3,3), input_shape=(input_frames, input_height, input_width, channels), padding='same'))\n",
    "model_1.add(BatchNormalization())\n",
    "model_1.add(Activation('relu'))\n",
    "model_1.add(MaxPooling3D(pool_size=(2,2,2)))\n",
    "\n",
    "model_1.add(Conv3D(16, kernel_size=(3,3,3), padding='same'))\n",
    "model_1.add(BatchNormalization())\n",
    "model_1.add(Activation('relu'))\n",
    "model_1.add(MaxPooling3D(pool_size=(2,2,2)))\n",
    "\n",
    "model_1.add(Conv3D(32, kernel_size=(1,3,3), padding='same'))\n",
    "model_1.add(BatchNormalization())\n",
    "model_1.add(Activation('relu'))\n",
    "model_1.add(MaxPooling3D(pool_size=(2,2,2)))\n",
    "\n",
    "model_1.add(Conv3D(64, kernel_size=(1,3,3), padding='same'))\n",
    "model_1.add(BatchNormalization())\n",
    "model_1.add(Activation('relu'))\n",
    "model_1.add(MaxPooling3D(pool_size=(2,2,2)))\n",
    "\n",
    "#Flatten Layers\n",
    "model_1.add(Flatten())\n",
    "model_1.add(Dense(1000, activation='relu'))\n",
    "model_1.add(Dropout(0.5))\n",
    "model_1.add(Dense(500, activation='relu'))\n",
    "model_1.add(Dropout(0.5))\n",
    "\n",
    "#softmax layer\n",
    "model_1.add(Dense(classes, activation='softmax'))"
   ]
  },
  {
   "cell_type": "markdown",
   "metadata": {
    "id": "hjn_By11QlA-"
   },
   "source": [
    "Let us now fit the model. This will start training the model and with the help of the checkpoints, you'll be able to save the model at the end of each epoch."
   ]
  },
  {
   "cell_type": "code",
   "execution_count": null,
   "metadata": {
    "colab": {
     "base_uri": "https://localhost:8080/"
    },
    "id": "2UypKZuWQm3b",
    "outputId": "223c7b9a-6f2b-4e16-d44e-dd59e68e8658"
   },
   "outputs": [
    {
     "name": "stdout",
     "output_type": "stream",
     "text": [
      "# training sequences = 663\n",
      "# validation sequences = 100\n",
      "# batch size = 30\n",
      "# epochs = 20\n",
      "Model: \"sequential\"\n",
      "_________________________________________________________________\n",
      "Layer (type)                 Output Shape              Param #   \n",
      "=================================================================\n",
      "conv3d (Conv3D)              (None, 18, 84, 84, 8)     656       \n",
      "_________________________________________________________________\n",
      "batch_normalization (BatchNo (None, 18, 84, 84, 8)     32        \n",
      "_________________________________________________________________\n",
      "activation (Activation)      (None, 18, 84, 84, 8)     0         \n",
      "_________________________________________________________________\n",
      "max_pooling3d (MaxPooling3D) (None, 9, 42, 42, 8)      0         \n",
      "_________________________________________________________________\n",
      "conv3d_1 (Conv3D)            (None, 9, 42, 42, 16)     3472      \n",
      "_________________________________________________________________\n",
      "batch_normalization_1 (Batch (None, 9, 42, 42, 16)     64        \n",
      "_________________________________________________________________\n",
      "activation_1 (Activation)    (None, 9, 42, 42, 16)     0         \n",
      "_________________________________________________________________\n",
      "max_pooling3d_1 (MaxPooling3 (None, 4, 21, 21, 16)     0         \n",
      "_________________________________________________________________\n",
      "conv3d_2 (Conv3D)            (None, 4, 21, 21, 32)     4640      \n",
      "_________________________________________________________________\n",
      "batch_normalization_2 (Batch (None, 4, 21, 21, 32)     128       \n",
      "_________________________________________________________________\n",
      "activation_2 (Activation)    (None, 4, 21, 21, 32)     0         \n",
      "_________________________________________________________________\n",
      "max_pooling3d_2 (MaxPooling3 (None, 2, 10, 10, 32)     0         \n",
      "_________________________________________________________________\n",
      "conv3d_3 (Conv3D)            (None, 2, 10, 10, 64)     18496     \n",
      "_________________________________________________________________\n",
      "batch_normalization_3 (Batch (None, 2, 10, 10, 64)     256       \n",
      "_________________________________________________________________\n",
      "activation_3 (Activation)    (None, 2, 10, 10, 64)     0         \n",
      "_________________________________________________________________\n",
      "max_pooling3d_3 (MaxPooling3 (None, 1, 5, 5, 64)       0         \n",
      "_________________________________________________________________\n",
      "flatten (Flatten)            (None, 1600)              0         \n",
      "_________________________________________________________________\n",
      "dense (Dense)                (None, 1000)              1601000   \n",
      "_________________________________________________________________\n",
      "dropout (Dropout)            (None, 1000)              0         \n",
      "_________________________________________________________________\n",
      "dense_1 (Dense)              (None, 500)               500500    \n",
      "_________________________________________________________________\n",
      "dropout_1 (Dropout)          (None, 500)               0         \n",
      "_________________________________________________________________\n",
      "dense_2 (Dense)              (None, 5)                 2505      \n",
      "=================================================================\n",
      "Total params: 2,131,749\n",
      "Trainable params: 2,131,509\n",
      "Non-trainable params: 240\n",
      "_________________________________________________________________\n",
      "None\n",
      "WARNING:tensorflow:`period` argument is deprecated. Please use `save_freq` to specify the frequency in number of batches seen.\n",
      "Source path =  /content/Project_data/train ; batch size = 30\n",
      "Epoch 1/20\n",
      "21/23 [==========================>...] - ETA: 20s - loss: 4.1427 - categorical_accuracy: 0.2173Batch:  23 Index: 30\n",
      "23/23 [==============================] - ETA: 0s - loss: 4.0757 - categorical_accuracy: 0.2205 Source path =  /content/Project_data/val ; batch size = 30\n",
      "Batch:  4 Index: 30\n",
      "23/23 [==============================] - 263s 11s/step - loss: 4.0462 - categorical_accuracy: 0.2219 - val_loss: 1.5319 - val_categorical_accuracy: 0.2000\n",
      "\n",
      "Epoch 00001: saving model to model_init_2021-08-0915_44_57.787868/model-00001-3.36848-0.25339-1.53194-0.20000.h5\n",
      "Epoch 2/20\n",
      "23/23 [==============================] - 31s 1s/step - loss: 1.5555 - categorical_accuracy: 0.4065 - val_loss: 1.9729 - val_categorical_accuracy: 0.3250\n",
      "\n",
      "Epoch 00002: saving model to model_init_2021-08-0915_44_57.787868/model-00002-1.68120-0.37681-1.97289-0.32500.h5\n",
      "Epoch 3/20\n",
      "23/23 [==============================] - 31s 1s/step - loss: 2.2167 - categorical_accuracy: 0.3429 - val_loss: 2.1678 - val_categorical_accuracy: 0.3250\n",
      "\n",
      "Epoch 00003: saving model to model_init_2021-08-0915_44_57.787868/model-00003-2.47311-0.34783-2.16784-0.32500.h5\n",
      "Epoch 4/20\n",
      "23/23 [==============================] - 31s 1s/step - loss: 2.9012 - categorical_accuracy: 0.2848 - val_loss: 1.4840 - val_categorical_accuracy: 0.2250\n",
      "\n",
      "Epoch 00004: saving model to model_init_2021-08-0915_44_57.787868/model-00004-2.78037-0.31884-1.48397-0.22500.h5\n",
      "Epoch 5/20\n",
      "23/23 [==============================] - 32s 1s/step - loss: 2.4051 - categorical_accuracy: 0.2531 - val_loss: 2.2441 - val_categorical_accuracy: 0.1500\n",
      "\n",
      "Epoch 00005: saving model to model_init_2021-08-0915_44_57.787868/model-00005-2.34804-0.24638-2.24406-0.15000.h5\n",
      "Epoch 6/20\n",
      "23/23 [==============================] - 32s 1s/step - loss: 1.9415 - categorical_accuracy: 0.3253 - val_loss: 2.1956 - val_categorical_accuracy: 0.0750\n",
      "\n",
      "Epoch 00006: saving model to model_init_2021-08-0915_44_57.787868/model-00006-1.87391-0.28986-2.19563-0.07500.h5\n",
      "Epoch 7/20\n",
      "23/23 [==============================] - 31s 1s/step - loss: 1.7532 - categorical_accuracy: 0.1800 - val_loss: 1.7639 - val_categorical_accuracy: 0.1500\n",
      "\n",
      "Epoch 00007: saving model to model_init_2021-08-0915_44_57.787868/model-00007-1.73744-0.23188-1.76387-0.15000.h5\n",
      "Epoch 8/20\n",
      "23/23 [==============================] - 32s 1s/step - loss: 1.6388 - categorical_accuracy: 0.2341 - val_loss: 2.5891 - val_categorical_accuracy: 0.2250\n",
      "\n",
      "Epoch 00008: saving model to model_init_2021-08-0915_44_57.787868/model-00008-1.69728-0.24638-2.58913-0.22500.h5\n",
      "\n",
      "Epoch 00008: ReduceLROnPlateau reducing learning rate to 0.00020000000949949026.\n",
      "Epoch 9/20\n",
      "23/23 [==============================] - 31s 1s/step - loss: 1.8001 - categorical_accuracy: 0.1622 - val_loss: 2.3760 - val_categorical_accuracy: 0.2250\n",
      "\n",
      "Epoch 00009: saving model to model_init_2021-08-0915_44_57.787868/model-00009-1.77865-0.18841-2.37599-0.22500.h5\n",
      "Epoch 10/20\n",
      "23/23 [==============================] - 31s 1s/step - loss: 1.1734 - categorical_accuracy: 0.4262 - val_loss: 2.8892 - val_categorical_accuracy: 0.1250\n",
      "\n",
      "Epoch 00010: saving model to model_init_2021-08-0915_44_57.787868/model-00010-1.25176-0.42029-2.88922-0.12500.h5\n",
      "Epoch 11/20\n",
      "23/23 [==============================] - 31s 1s/step - loss: 1.4528 - categorical_accuracy: 0.3375 - val_loss: 2.2526 - val_categorical_accuracy: 0.2500\n",
      "\n",
      "Epoch 00011: saving model to model_init_2021-08-0915_44_57.787868/model-00011-1.49936-0.30435-2.25259-0.25000.h5\n",
      "Epoch 12/20\n",
      "23/23 [==============================] - 31s 1s/step - loss: 1.2687 - categorical_accuracy: 0.3971 - val_loss: 2.4121 - val_categorical_accuracy: 0.1500\n",
      "\n",
      "Epoch 00012: saving model to model_init_2021-08-0915_44_57.787868/model-00012-1.32109-0.36232-2.41207-0.15000.h5\n",
      "\n",
      "Epoch 00012: ReduceLROnPlateau reducing learning rate to 4.0000001899898055e-05.\n",
      "Epoch 13/20\n",
      "23/23 [==============================] - 32s 1s/step - loss: 1.3563 - categorical_accuracy: 0.3284 - val_loss: 2.2122 - val_categorical_accuracy: 0.1750\n",
      "\n",
      "Epoch 00013: saving model to model_init_2021-08-0915_44_57.787868/model-00013-1.33269-0.37681-2.21215-0.17500.h5\n",
      "Epoch 14/20\n",
      "23/23 [==============================] - 31s 1s/step - loss: 1.3069 - categorical_accuracy: 0.4278 - val_loss: 2.1181 - val_categorical_accuracy: 0.1750\n",
      "\n",
      "Epoch 00014: saving model to model_init_2021-08-0915_44_57.787868/model-00014-1.31078-0.43478-2.11810-0.17500.h5\n",
      "Epoch 15/20\n",
      "23/23 [==============================] - 31s 1s/step - loss: 1.3387 - categorical_accuracy: 0.5552 - val_loss: 2.1312 - val_categorical_accuracy: 0.1250\n",
      "\n",
      "Epoch 00015: saving model to model_init_2021-08-0915_44_57.787868/model-00015-1.27004-0.52174-2.13124-0.12500.h5\n",
      "Epoch 16/20\n",
      "23/23 [==============================] - 32s 1s/step - loss: 1.5521 - categorical_accuracy: 0.2224 - val_loss: 1.8056 - val_categorical_accuracy: 0.1750\n",
      "\n",
      "Epoch 00016: saving model to model_init_2021-08-0915_44_57.787868/model-00016-1.50050-0.27536-1.80562-0.17500.h5\n",
      "\n",
      "Epoch 00016: ReduceLROnPlateau reducing learning rate to 8.000000525498762e-06.\n",
      "Epoch 17/20\n",
      "23/23 [==============================] - 34s 1s/step - loss: 1.3928 - categorical_accuracy: 0.3776 - val_loss: 1.7090 - val_categorical_accuracy: 0.2000\n",
      "\n",
      "Epoch 00017: saving model to model_init_2021-08-0915_44_57.787868/model-00017-1.32625-0.40580-1.70905-0.20000.h5\n",
      "Epoch 18/20\n",
      "23/23 [==============================] - 31s 1s/step - loss: 1.3662 - categorical_accuracy: 0.4507 - val_loss: 1.6035 - val_categorical_accuracy: 0.2500\n",
      "\n",
      "Epoch 00018: saving model to model_init_2021-08-0915_44_57.787868/model-00018-1.35723-0.42029-1.60347-0.25000.h5\n",
      "Epoch 19/20\n",
      "23/23 [==============================] - 31s 1s/step - loss: 1.3672 - categorical_accuracy: 0.3378 - val_loss: 1.5354 - val_categorical_accuracy: 0.3000\n",
      "\n",
      "Epoch 00019: saving model to model_init_2021-08-0915_44_57.787868/model-00019-1.30692-0.42029-1.53535-0.30000.h5\n",
      "Epoch 20/20\n",
      "23/23 [==============================] - 31s 1s/step - loss: 1.4984 - categorical_accuracy: 0.2911 - val_loss: 1.5287 - val_categorical_accuracy: 0.3250\n",
      "\n",
      "Epoch 00020: saving model to model_init_2021-08-0915_44_57.787868/model-00020-1.41583-0.31884-1.52870-0.32500.h5\n",
      "\n",
      "Epoch 00020: ReduceLROnPlateau reducing learning rate to 1.6000001778593287e-06.\n"
     ]
    }
   ],
   "source": [
    "# Setting the batch size, epochs and compiling the model.\n",
    "batch_size = 30\n",
    "num_epochs = 20\n",
    "\n",
    "train_generator = generator(train_path, train_doc, batch_size)\n",
    "val_generator = generator(val_path, val_doc, batch_size)\n",
    "history_1 = train(batch_size, num_epochs, model_1, train_generator, val_generator)"
   ]
  },
  {
   "cell_type": "code",
   "execution_count": null,
   "metadata": {
    "colab": {
     "base_uri": "https://localhost:8080/",
     "height": 367
    },
    "id": "VLkaEctaUCc0",
    "outputId": "5413ac5d-6e27-469b-8869-f0b22f87aab5"
   },
   "outputs": [
    {
     "data": {
      "image/png": "[encoded data removed]",
      "text/plain": [
       "<Figure size 1080x432 with 2 Axes>"
      ]
     },
     "metadata": {
      "needs_background": "light",
      "tags": []
     },
     "output_type": "display_data"
    }
   ],
   "source": [
    "plot(history_1)"
   ]
  },
  {
   "cell_type": "markdown",
   "metadata": {
    "id": "cFdc7XF3WP1d"
   },
   "source": [
    "2D CNN with LSTM"
   ]
  },
  {
   "cell_type": "code",
   "execution_count": 13,
   "metadata": {
    "id": "krIroIYSWRIm"
   },
   "outputs": [],
   "source": [
    "input_frames = 16\n",
    "input_height = 120\n",
    "input_width = 120\n",
    "\n",
    "classes = 5 #left swipe, right swipe, thumbs up, thumbs down, stop\n",
    "channels = 3\n",
    "\n",
    "model_2 = Sequential()\n",
    "\n",
    "model_2.add(TimeDistributed(Conv2D(16, (3, 3) , padding='same', activation='relu'),\n",
    "                                  input_shape=(input_frames, input_height, input_width, channels)))\n",
    "model_2.add(TimeDistributed(BatchNormalization()))\n",
    "model_2.add(TimeDistributed(MaxPooling2D((2, 2))))\n",
    "        \n",
    "model_2.add(TimeDistributed(Conv2D(32, (3, 3) , padding='same', activation='relu')))\n",
    "model_2.add(TimeDistributed(BatchNormalization()))\n",
    "model_2.add(TimeDistributed(MaxPooling2D((2, 2))))\n",
    "        \n",
    "model_2.add(TimeDistributed(Conv2D(64, (3, 3) , padding='same', activation='relu')))\n",
    "model_2.add(TimeDistributed(BatchNormalization()))\n",
    "model_2.add(TimeDistributed(MaxPooling2D((2, 2))))\n",
    "        \n",
    "model_2.add(TimeDistributed(Conv2D(128, (3, 3) , padding='same', activation='relu')))\n",
    "model_2.add(TimeDistributed(BatchNormalization()))\n",
    "model_2.add(TimeDistributed(MaxPooling2D((2, 2))))\n",
    "        \n",
    "model_2.add(TimeDistributed(Conv2D(256, (3, 3) , padding='same', activation='relu')))\n",
    "model_2.add(TimeDistributed(BatchNormalization()))\n",
    "model_2.add(TimeDistributed(MaxPooling2D((2, 2))))\n",
    "\n",
    "\n",
    "model_2.add(TimeDistributed(Flatten()))\n",
    "\n",
    "\n",
    "model_2.add(LSTM(128))\n",
    "model_2.add(Dropout(0.5))\n",
    "        \n",
    "model_2.add(Dense(128,activation='relu'))\n",
    "model_2.add(Dropout(0.5))\n",
    "        \n",
    "model_2.add(Dense(classes, activation='softmax'))"
   ]
  },
  {
   "cell_type": "code",
   "execution_count": 14,
   "metadata": {
    "id": "r1q7sHu2XJlX"
   },
   "outputs": [],
   "source": [
    "def generator_augment(source_path, folder_list, batch_size):\n",
    "    print( 'Source path = ', source_path, '; batch size =', batch_size)\n",
    "    img_idx = [input_frames for input_frames in range(0, input_frames)] #create a list of image numbers you want to use for a particular video\n",
    "    while True:\n",
    "        t = np.random.permutation(folder_list)\n",
    "        num_batches = len(folder_list)//batch_size # calculate the number of batches\n",
    "        for batch in range(num_batches): # we iterate over the number of batches\n",
    "            batch_data = np.zeros((batch_size, input_frames, input_height, input_width, channels)) # x is the number of images you use for each video, (y,z) is the final size of the input images and 3 is the number of channels RGB\n",
    "            batch_labels = np.zeros((batch_size,5)) # batch_labels is the one hot representation of the output\n",
    "            batch_data_aug = np.zeros((batch_size, input_frames, input_height, input_width, channels))\n",
    "\n",
    "            for folder in range(batch_size): # iterate over the batch_size\n",
    "                imgs = os.listdir(source_path+'/'+ t[folder + (batch*batch_size)].split(';')[0]) # read all the images in the folder\n",
    "                for idx,item in enumerate(img_idx): #  Iterate iver the frames/images of a folder to read them in\n",
    "                    image = imread(source_path+'/'+ t[folder + (batch*batch_size)].strip().split(';')[0]+'/'+imgs[item]).astype(np.float32)\n",
    "                    \n",
    "                    #crop the images and resize them. Note that the images are of 2 different shape \n",
    "                    #and the conv3D will throw error if the inputs in a batch have different shapes\n",
    "                    \n",
    "                    shifted = cv2.warpAffine(image, np.float32([[1, 0, np.random.randint(-30,30)],[0, 1, np.random.randint(-30,30)]]), (image.shape[1], image.shape[0]))\n",
    "                    \n",
    "                    gray = cv2.cvtColor(shifted,cv2.COLOR_BGR2GRAY)\n",
    "\n",
    "                    x0, y0 = np.argwhere(gray > 0).min(axis=0)\n",
    "                    x1, y1 = np.argwhere(gray > 0).max(axis=0) \n",
    "                    \n",
    "                    cropped=shifted[x0:x1,y0:y1,:]\n",
    "                    \n",
    "                    image_resized=imresize(cropped,(input_height, input_width,3))\n",
    "                    \n",
    "                    M = cv2.getRotationMatrix2D((input_width//2, input_height//2),\n",
    "                                                np.random.randint(-10,10), 1.0)\n",
    "                    rotated = cv2.warpAffine(image_resized, M, (input_width, input_height))\n",
    "\n",
    "                    batch_data_aug[folder,idx,:,:,0] = (rotated[:,:,0])/255\n",
    "                    batch_data_aug[folder,idx,:,:,1] = (rotated[:,:,1])/255\n",
    "                    batch_data_aug[folder,idx,:,:,2] = (rotated[:,:,2])/255\n",
    "\n",
    "                batch_labels[folder, int(t[folder + (batch*batch_size)].strip().split(';')[2])] = 1\n",
    "                \n",
    "#                 batch_data=np.concatenate([batch_data,batch_data_aug])\n",
    "#                 batch_labels=np.concatenate([batch_labels,batch_labels])\n",
    "\n",
    "            yield batch_data_aug, batch_labels #you yield the batch_data and the batch_labels, remember what does yield do\n",
    "\n",
    "        \n",
    "        # write the code for the remaining data points which are left after full batches\n",
    "        if (len(folder_list) != batch_size*num_batches):\n",
    "            print(\"Batch: \",num_batches+1,\"Index:\", batch_size)\n",
    "            batch_size = len(folder_list) - (batch_size*num_batches)\n",
    "            batch_data = np.zeros((batch_size, input_frames, input_height, input_width, channels)) # x is the number of images you use for each video, (y,z) is the final size of the input images and 3 is the number of channels RGB\n",
    "            batch_labels = np.zeros((batch_size,5)) # batch_labels is the one hot representation of the output\n",
    "            batch_data_aug = np.zeros((batch_size, input_frames, input_height, input_width, channels))\n",
    "            for folder in range(batch_size): # iterate over the batch_size\n",
    "                imgs = os.listdir(source_path+'/'+ t[folder + (batch*batch_size)].split(';')[0]) # read all the images in the folder\n",
    "                for idx,item in enumerate(img_idx): #  Iterate iver the frames/images of a folder to read them in\n",
    "                    image = imread(source_path+'/'+ t[folder + (batch*batch_size)].strip().split(';')[0]+'/'+imgs[item]).astype(np.float32)\n",
    "                    \n",
    "                    #crop the images and resize them. Note that the images are of 2 different shape \n",
    "                    #and the conv3D will throw error if the inputs in a batch have different shapes\n",
    "\n",
    "                    shifted = cv2.warpAffine(image, np.float32([[1, 0, np.random.randint(-30,30)],[0, 1, np.random.randint(-30,30)]]), (image.shape[1], image.shape[0]))\n",
    "                    \n",
    "                    gray = cv2.cvtColor(shifted,cv2.COLOR_BGR2GRAY)\n",
    "\n",
    "                    x0, y0 = np.argwhere(gray > 0).min(axis=0)\n",
    "                    x1, y1 = np.argwhere(gray > 0).max(axis=0) \n",
    "                    \n",
    "                    cropped=shifted[x0:x1,y0:y1,:]\n",
    "                    \n",
    "                    image_resized=imresize(cropped,(input_height,input_width,3))\n",
    "                    \n",
    "                    M = cv2.getRotationMatrix2D((input_width//2,input_height//2),\n",
    "                                                np.random.randint(-10,10), 1.0)\n",
    "                    rotated = cv2.warpAffine(image_resized, M, (input_width, input_height))\n",
    "\n",
    "                    batch_data_aug[folder,idx,:,:,0] = (rotated[:,:,0])/255\n",
    "                    batch_data_aug[folder,idx,:,:,1] = (rotated[:,:,1])/255\n",
    "                    batch_data_aug[folder,idx,:,:,2] = (rotated[:,:,2])/255\n",
    "\n",
    "                batch_labels[folder, int(t[folder + (batch*batch_size)].strip().split(';')[2])] = 1\n",
    "                \n",
    "#                 batch_data=np.concatenate([batch_data,batch_data_aug])\n",
    "#                 batch_labels=np.concatenate([batch_labels,batch_labels])\n",
    "\n",
    "            yield batch_data_aug, batch_labels"
   ]
  },
  {
   "cell_type": "code",
   "execution_count": 15,
   "metadata": {
    "colab": {
     "base_uri": "https://localhost:8080/"
    },
    "id": "wRvxwx2JW3oE",
    "outputId": "469b266d-6dd1-4bef-8dda-618b0a4003f1"
   },
   "outputs": [
    {
     "name": "stdout",
     "output_type": "stream",
     "text": [
      "# training sequences = 663\n",
      "# validation sequences = 100\n",
      "# batch size = 30\n",
      "# epochs = 25\n",
      "Model: \"sequential_1\"\n",
      "_________________________________________________________________\n",
      "Layer (type)                 Output Shape              Param #   \n",
      "=================================================================\n",
      "time_distributed (TimeDistri (None, 16, 120, 120, 16)  448       \n",
      "_________________________________________________________________\n",
      "time_distributed_1 (TimeDist (None, 16, 120, 120, 16)  64        \n",
      "_________________________________________________________________\n",
      "time_distributed_2 (TimeDist (None, 16, 60, 60, 16)    0         \n",
      "_________________________________________________________________\n",
      "time_distributed_3 (TimeDist (None, 16, 60, 60, 32)    4640      \n",
      "_________________________________________________________________\n",
      "time_distributed_4 (TimeDist (None, 16, 60, 60, 32)    128       \n",
      "_________________________________________________________________\n",
      "time_distributed_5 (TimeDist (None, 16, 30, 30, 32)    0         \n",
      "_________________________________________________________________\n",
      "time_distributed_6 (TimeDist (None, 16, 30, 30, 64)    18496     \n",
      "_________________________________________________________________\n",
      "time_distributed_7 (TimeDist (None, 16, 30, 30, 64)    256       \n",
      "_________________________________________________________________\n",
      "time_distributed_8 (TimeDist (None, 16, 15, 15, 64)    0         \n",
      "_________________________________________________________________\n",
      "time_distributed_9 (TimeDist (None, 16, 15, 15, 128)   73856     \n",
      "_________________________________________________________________\n",
      "time_distributed_10 (TimeDis (None, 16, 15, 15, 128)   512       \n",
      "_________________________________________________________________\n",
      "time_distributed_11 (TimeDis (None, 16, 7, 7, 128)     0         \n",
      "_________________________________________________________________\n",
      "time_distributed_12 (TimeDis (None, 16, 7, 7, 256)     295168    \n",
      "_________________________________________________________________\n",
      "time_distributed_13 (TimeDis (None, 16, 7, 7, 256)     1024      \n",
      "_________________________________________________________________\n",
      "time_distributed_14 (TimeDis (None, 16, 3, 3, 256)     0         \n",
      "_________________________________________________________________\n",
      "time_distributed_15 (TimeDis (None, 16, 2304)          0         \n",
      "_________________________________________________________________\n",
      "lstm (LSTM)                  (None, 128)               1245696   \n",
      "_________________________________________________________________\n",
      "dropout_2 (Dropout)          (None, 128)               0         \n",
      "_________________________________________________________________\n",
      "dense_3 (Dense)              (None, 128)               16512     \n",
      "_________________________________________________________________\n",
      "dropout_3 (Dropout)          (None, 128)               0         \n",
      "_________________________________________________________________\n",
      "dense_4 (Dense)              (None, 5)                 645       \n",
      "=================================================================\n",
      "Total params: 1,657,445\n",
      "Trainable params: 1,656,453\n",
      "Non-trainable params: 992\n",
      "_________________________________________________________________\n",
      "None\n",
      "WARNING:tensorflow:`period` argument is deprecated. Please use `save_freq` to specify the frequency in number of batches seen.\n",
      "Source path =  /content/Project_data/train ; batch size = 30\n",
      "Epoch 1/25\n",
      "21/23 [==========================>...] - ETA: 26s - loss: 1.6929 - categorical_accuracy: 0.2191Batch:  23 Index: 30\n",
      "23/23 [==============================] - ETA: 0s - loss: 1.6894 - categorical_accuracy: 0.2225 Source path =  /content/Project_data/val ; batch size = 30\n",
      "Batch:  4 Index: 30\n",
      "23/23 [==============================] - 360s 14s/step - loss: 1.6879 - categorical_accuracy: 0.2240 - val_loss: 1.7278 - val_categorical_accuracy: 0.1500\n",
      "\n",
      "Epoch 00001: saving model to model_init_2021-08-0916_07_14.385984/model-00001-1.65272-0.25792-1.72777-0.15000.h5\n",
      "Epoch 2/25\n",
      "23/23 [==============================] - 44s 2s/step - loss: 1.7361 - categorical_accuracy: 0.1633 - val_loss: 1.6728 - val_categorical_accuracy: 0.2750\n",
      "\n",
      "Epoch 00002: saving model to model_init_2021-08-0916_07_14.385984/model-00002-1.74835-0.17391-1.67282-0.27500.h5\n",
      "Epoch 3/25\n",
      "23/23 [==============================] - 43s 2s/step - loss: 1.5516 - categorical_accuracy: 0.2368 - val_loss: 1.8682 - val_categorical_accuracy: 0.2000\n",
      "\n",
      "Epoch 00003: saving model to model_init_2021-08-0916_07_14.385984/model-00003-1.64332-0.20290-1.86824-0.20000.h5\n",
      "Epoch 4/25\n",
      "23/23 [==============================] - 42s 2s/step - loss: 1.5409 - categorical_accuracy: 0.2878 - val_loss: 1.6766 - val_categorical_accuracy: 0.2250\n",
      "\n",
      "Epoch 00004: saving model to model_init_2021-08-0916_07_14.385984/model-00004-1.58955-0.30435-1.67659-0.22500.h5\n",
      "Epoch 5/25\n",
      "23/23 [==============================] - 44s 2s/step - loss: 1.8096 - categorical_accuracy: 0.1542 - val_loss: 1.7253 - val_categorical_accuracy: 0.1500\n",
      "\n",
      "Epoch 00005: saving model to model_init_2021-08-0916_07_14.385984/model-00005-1.76477-0.17391-1.72532-0.15000.h5\n",
      "Epoch 6/25\n",
      "23/23 [==============================] - 43s 2s/step - loss: 1.5573 - categorical_accuracy: 0.3632 - val_loss: 1.7354 - val_categorical_accuracy: 0.2250\n",
      "\n",
      "Epoch 00006: saving model to model_init_2021-08-0916_07_14.385984/model-00006-1.58817-0.28986-1.73536-0.22500.h5\n",
      "\n",
      "Epoch 00006: ReduceLROnPlateau reducing learning rate to 0.00020000000949949026.\n",
      "Epoch 7/25\n",
      "23/23 [==============================] - 46s 2s/step - loss: 1.7266 - categorical_accuracy: 0.1094 - val_loss: 1.7427 - val_categorical_accuracy: 0.2250\n",
      "\n",
      "Epoch 00007: saving model to model_init_2021-08-0916_07_14.385984/model-00007-1.71026-0.18841-1.74274-0.22500.h5\n",
      "Epoch 8/25\n",
      "23/23 [==============================] - 47s 2s/step - loss: 1.5921 - categorical_accuracy: 0.2696 - val_loss: 1.7401 - val_categorical_accuracy: 0.2000\n",
      "\n",
      "Epoch 00008: saving model to model_init_2021-08-0916_07_14.385984/model-00008-1.56359-0.30435-1.74009-0.20000.h5\n",
      "Epoch 9/25\n",
      "23/23 [==============================] - 44s 2s/step - loss: 1.5119 - categorical_accuracy: 0.3797 - val_loss: 1.8334 - val_categorical_accuracy: 0.1750\n",
      "\n",
      "Epoch 00009: saving model to model_init_2021-08-0916_07_14.385984/model-00009-1.48443-0.43478-1.83344-0.17500.h5\n",
      "Epoch 10/25\n",
      "23/23 [==============================] - 44s 2s/step - loss: 1.4206 - categorical_accuracy: 0.3474 - val_loss: 1.7808 - val_categorical_accuracy: 0.1750\n",
      "\n",
      "Epoch 00010: saving model to model_init_2021-08-0916_07_14.385984/model-00010-1.48461-0.36232-1.78080-0.17500.h5\n",
      "\n",
      "Epoch 00010: ReduceLROnPlateau reducing learning rate to 4.0000001899898055e-05.\n",
      "Epoch 11/25\n",
      "23/23 [==============================] - 44s 2s/step - loss: 1.5351 - categorical_accuracy: 0.3550 - val_loss: 1.8709 - val_categorical_accuracy: 0.1750\n",
      "\n",
      "Epoch 00011: saving model to model_init_2021-08-0916_07_14.385984/model-00011-1.55077-0.36232-1.87095-0.17500.h5\n",
      "Epoch 12/25\n",
      "23/23 [==============================] - 44s 2s/step - loss: 1.7733 - categorical_accuracy: 0.2105 - val_loss: 1.8681 - val_categorical_accuracy: 0.2250\n",
      "\n",
      "Epoch 00012: saving model to model_init_2021-08-0916_07_14.385984/model-00012-1.67310-0.23188-1.86815-0.22500.h5\n",
      "Epoch 13/25\n",
      "23/23 [==============================] - 43s 2s/step - loss: 1.7126 - categorical_accuracy: 0.2010 - val_loss: 1.7348 - val_categorical_accuracy: 0.1750\n",
      "\n",
      "Epoch 00013: saving model to model_init_2021-08-0916_07_14.385984/model-00013-1.64653-0.24638-1.73475-0.17500.h5\n",
      "Epoch 14/25\n",
      "23/23 [==============================] - 45s 2s/step - loss: 1.4764 - categorical_accuracy: 0.3116 - val_loss: 1.7405 - val_categorical_accuracy: 0.2250\n",
      "\n",
      "Epoch 00014: saving model to model_init_2021-08-0916_07_14.385984/model-00014-1.51301-0.31884-1.74050-0.22500.h5\n",
      "\n",
      "Epoch 00014: ReduceLROnPlateau reducing learning rate to 8.000000525498762e-06.\n",
      "Epoch 15/25\n",
      "23/23 [==============================] - 43s 2s/step - loss: 1.4627 - categorical_accuracy: 0.3090 - val_loss: 1.8548 - val_categorical_accuracy: 0.2000\n",
      "\n",
      "Epoch 00015: saving model to model_init_2021-08-0916_07_14.385984/model-00015-1.47220-0.28986-1.85482-0.20000.h5\n",
      "Epoch 16/25\n",
      "23/23 [==============================] - 43s 2s/step - loss: 1.4560 - categorical_accuracy: 0.3826 - val_loss: 1.8494 - val_categorical_accuracy: 0.2000\n",
      "\n",
      "Epoch 00016: saving model to model_init_2021-08-0916_07_14.385984/model-00016-1.46988-0.36232-1.84941-0.20000.h5\n",
      "Epoch 17/25\n",
      "23/23 [==============================] - 45s 2s/step - loss: 1.4583 - categorical_accuracy: 0.3680 - val_loss: 1.6636 - val_categorical_accuracy: 0.2250\n",
      "\n",
      "Epoch 00017: saving model to model_init_2021-08-0916_07_14.385984/model-00017-1.43098-0.34783-1.66356-0.22500.h5\n",
      "Epoch 18/25\n",
      "23/23 [==============================] - 44s 2s/step - loss: 1.5856 - categorical_accuracy: 0.2702 - val_loss: 1.5637 - val_categorical_accuracy: 0.2750\n",
      "\n",
      "Epoch 00018: saving model to model_init_2021-08-0916_07_14.385984/model-00018-1.60167-0.27536-1.56366-0.27500.h5\n",
      "Epoch 19/25\n",
      "23/23 [==============================] - 42s 2s/step - loss: 1.4382 - categorical_accuracy: 0.2828 - val_loss: 1.7749 - val_categorical_accuracy: 0.2500\n",
      "\n",
      "Epoch 00019: saving model to model_init_2021-08-0916_07_14.385984/model-00019-1.50584-0.28986-1.77485-0.25000.h5\n",
      "Epoch 20/25\n",
      "23/23 [==============================] - 45s 2s/step - loss: 1.4677 - categorical_accuracy: 0.2970 - val_loss: 1.5499 - val_categorical_accuracy: 0.3250\n",
      "\n",
      "Epoch 00020: saving model to model_init_2021-08-0916_07_14.385984/model-00020-1.47384-0.31884-1.54990-0.32500.h5\n",
      "Epoch 21/25\n",
      "23/23 [==============================] - 42s 2s/step - loss: 1.4517 - categorical_accuracy: 0.3129 - val_loss: 1.5819 - val_categorical_accuracy: 0.2750\n",
      "\n",
      "Epoch 00021: saving model to model_init_2021-08-0916_07_14.385984/model-00021-1.46117-0.31884-1.58187-0.27500.h5\n",
      "Epoch 22/25\n",
      "23/23 [==============================] - 47s 2s/step - loss: 1.6205 - categorical_accuracy: 0.2443 - val_loss: 1.4180 - val_categorical_accuracy: 0.3750\n",
      "\n",
      "Epoch 00022: saving model to model_init_2021-08-0916_07_14.385984/model-00022-1.65704-0.23188-1.41801-0.37500.h5\n",
      "Epoch 23/25\n",
      "23/23 [==============================] - 44s 2s/step - loss: 1.4695 - categorical_accuracy: 0.3202 - val_loss: 1.5455 - val_categorical_accuracy: 0.3250\n",
      "\n",
      "Epoch 00023: saving model to model_init_2021-08-0916_07_14.385984/model-00023-1.43674-0.28986-1.54554-0.32500.h5\n",
      "Epoch 24/25\n",
      "23/23 [==============================] - 43s 2s/step - loss: 1.6734 - categorical_accuracy: 0.2852 - val_loss: 1.5177 - val_categorical_accuracy: 0.3250\n",
      "\n",
      "Epoch 00024: saving model to model_init_2021-08-0916_07_14.385984/model-00024-1.59380-0.28986-1.51772-0.32500.h5\n",
      "Epoch 25/25\n",
      "23/23 [==============================] - 46s 2s/step - loss: 1.5837 - categorical_accuracy: 0.2068 - val_loss: 1.4483 - val_categorical_accuracy: 0.4500\n",
      "\n",
      "Epoch 00025: saving model to model_init_2021-08-0916_07_14.385984/model-00025-1.52132-0.28986-1.44828-0.45000.h5\n"
     ]
    }
   ],
   "source": [
    "batch_size = 30\n",
    "num_epochs = 25\n",
    "\n",
    "train_generator = generator_augment(train_path, train_doc, batch_size)\n",
    "val_generator = generator_augment(val_path, val_doc, batch_size)\n",
    "history_2 = train(batch_size, num_epochs, model_2, train_generator, val_generator)"
   ]
  },
  {
   "cell_type": "code",
   "execution_count": 16,
   "metadata": {
    "colab": {
     "base_uri": "https://localhost:8080/",
     "height": 366
    },
    "id": "6McEGC9WdwHu",
    "outputId": "9cbfeecc-98f1-4392-9283-229a845cb8c8"
   },
   "outputs": [
    {
     "data": {
      "image/png": "[encoded data removed]",
      "text/plain": [
       "<Figure size 1080x432 with 2 Axes>"
      ]
     },
     "metadata": {
      "needs_background": "light",
      "tags": []
     },
     "output_type": "display_data"
    }
   ],
   "source": [
    "plot(history_2)"
   ]
  }
 ],
 "metadata": {
  "colab": {
   "collapsed_sections": [],
   "name": "SB_AJAY",
   "provenance": []
  },
  "kernelspec": {
   "display_name": "Python 3",
   "language": "python",
   "name": "python3"
  },
  "language_info": {
   "codemirror_mode": {
    "name": "ipython",
    "version": 3
   },
   "file_extension": ".py",
   "mimetype": "text/x-python",
   "name": "python",
   "nbconvert_exporter": "python",
   "pygments_lexer": "ipython3",
   "version": "3.8.8"
  }
 },
 "nbformat": 4,
 "nbformat_minor": 1
}
